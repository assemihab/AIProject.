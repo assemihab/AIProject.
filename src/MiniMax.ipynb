{
 "cells": [
  {
   "cell_type": "code",
   "execution_count": 16,
   "metadata": {},
   "outputs": [
    {
     "data": {
      "text/plain": [
       "array([[0, 0, 0, 0, 0, 0, 0],\n",
       "       [0, 0, 0, 0, 0, 0, 0],\n",
       "       [0, 0, 0, 0, 0, 0, 0],\n",
       "       [0, 0, 0, 0, 0, 0, 0],\n",
       "       [0, 0, 0, 0, 0, 0, 0],\n",
       "       [0, 0, 0, 0, 0, 0, 0]])"
      ]
     },
     "execution_count": 16,
     "metadata": {},
     "output_type": "execute_result"
    }
   ],
   "source": [
    "#### initial state######\n",
    "\n",
    "###### noteeeeee######\n",
    "##### 1 is the AGENT\n",
    "##### 2 is the Computerrrrrrrrrr\n",
    "\n",
    "import numpy as np\n",
    "row = []\n",
    "board = []\n",
    "colSize=7\n",
    "rowSize=6\n",
    "for i in range(colSize):\n",
    "    row.append(0)\n",
    "for i in range(rowSize):\n",
    "    board.append(row)\n",
    "\n",
    "board=np.array(board)\n",
    "\n",
    "board"
   ]
  },
  {
   "cell_type": "code",
   "execution_count": 17,
   "metadata": {},
   "outputs": [],
   "source": [
    "##the board will be 2d list the \n",
    "#the column should be the column number\n",
    "# #the player will be Agent or Computer and used to determine the piece color\n",
    "def is_validMove(Board,Column):\n",
    "    Column=Column-1\n",
    "    index=np.where(Board[:,Column]==0)[0]\n",
    "    if(len(index)==0):\n",
    "        return False\n",
    "    else:\n",
    "        return True\n",
    "\n",
    "\n",
    "def dropPiece(Board,column,Player):\n",
    "    isvalid=is_validMove(Board,column)\n",
    "    column=column-1\n",
    "    if(isvalid):\n",
    "        index=np.where(Board[:,column]==0)[0]\n",
    "        newboard=Board.copy()\n",
    "        newboard[index[-1],column]=Player\n",
    "        return newboard,True\n",
    "    else:\n",
    "        return None,False\n",
    "\n"
   ]
  },
  {
   "cell_type": "code",
   "execution_count": 18,
   "metadata": {},
   "outputs": [],
   "source": [
    "def getAllValidChildren(Board,Player):\n",
    "    children=[]\n",
    "    for i in range (colSize):\n",
    "        child,status=dropPiece(Board,i,Player)\n",
    "        if(status):\n",
    "            ##to test the function\n",
    "            # print(child)\n",
    "            children.append(child)\n",
    "    return children\n"
   ]
  },
  {
   "cell_type": "code",
   "execution_count": 19,
   "metadata": {},
   "outputs": [
    {
     "data": {
      "text/plain": [
       "array([[0, 0, 0, 0, 0, 0, 0],\n",
       "       [0, 0, 0, 0, 0, 0, 0],\n",
       "       [0, 0, 0, 0, 0, 0, 0],\n",
       "       [0, 0, 0, 0, 0, 0, 0],\n",
       "       [0, 0, 0, 0, 0, 0, 0],\n",
       "       [0, 0, 0, 1, 0, 0, 0]])"
      ]
     },
     "execution_count": 19,
     "metadata": {},
     "output_type": "execute_result"
    }
   ],
   "source": [
    "nPP,status=dropPiece(board,4,1)\n",
    "nPP"
   ]
  },
  {
   "cell_type": "code",
   "execution_count": 20,
   "metadata": {},
   "outputs": [],
   "source": [
    "def check_goal_test(Board, Player):\n",
    "\n",
    "    for row in range(6):\n",
    "        for col in range(4):\n",
    "            if (\n",
    "                Board[row,col] == Player and\n",
    "                Board[row,col+1] == Player and\n",
    "                Board[row,col+2] == Player and\n",
    "                Board[row,col+3] == Player\n",
    "            ):\n",
    "                return Player\n",
    "\n",
    "    for col in range(7):\n",
    "        for row in range(3):\n",
    "            if (\n",
    "                Board[row,col] == Player and\n",
    "                Board[row+1,col]== Player and\n",
    "                Board[row+2,col]== Player and\n",
    "                Board[row+3,col]== Player\n",
    "            ):\n",
    "                return Player\n",
    "\n",
    "    for row in range(3):\n",
    "        for col in range(4):\n",
    "            if (\n",
    "                Board[row,col] == Player and\n",
    "                Board[row+1,col+1]== Player and\n",
    "                Board[row+2,col+2] == Player and\n",
    "                Board[row+3,col+3] == Player\n",
    "            ):\n",
    "                return Player\n",
    "\n",
    "    for row in range(3):\n",
    "        for col in range(3, 7):\n",
    "            if (\n",
    "                Board[row,col] == Player and\n",
    "                Board[row+1,col-1]== Player and\n",
    "                Board[row+2,col-2]== Player and\n",
    "                Board[row+3,col-3] == Player\n",
    "            ):\n",
    "                return Player\n",
    "    return False\n",
    "\n"
   ]
  },
  {
   "cell_type": "code",
   "execution_count": 21,
   "metadata": {},
   "outputs": [
    {
     "name": "stdout",
     "output_type": "stream",
     "text": [
      "False\n"
     ]
    }
   ],
   "source": [
    "status=check_goal_test(nPP,1)\n",
    "print(status)\n"
   ]
  },
  {
   "cell_type": "code",
   "execution_count": 22,
   "metadata": {},
   "outputs": [],
   "source": [
    "def evalLine(line, player, opponent):\n",
    "    player_count = np.count_nonzero(line==player)\n",
    "    opponent_count=np.count_nonzero(line==opponent)\n",
    "    empty_count = np.count_nonzero(line==0)\n",
    "    if player_count==4 and empty_count==0:\n",
    "        return 1000\n",
    "    elif player_count == 3 and empty_count == 1: # If player has 3-in-a-row column/row/diagonal gives heuristic 10\n",
    "        return 5 \n",
    "    elif player_count == 2 and empty_count == 2: \n",
    "        return 2  \n",
    "    elif opponent_count == 3 and empty_count == 1:  # If opponent has 3-in-a-row column/row/diagonal gives heuristic -8\n",
    "        return -4 \n",
    "    elif opponent_count == 2 and empty_count == 2:\n",
    "        return -3  \n",
    "    else:\n",
    "        return 0"
   ]
  },
  {
   "cell_type": "code",
   "execution_count": 23,
   "metadata": {},
   "outputs": [],
   "source": [
    "def UtilityOfBoard(Board, Player, Opponent):\n",
    "    utility = 0\n",
    "    \n",
    "    for row in range(rowSize):\n",
    "        for col in range(colSize-3):\n",
    "            line = Board[row, col:col+4]\n",
    "            utility += evalLine(line, Player, Opponent)\n",
    "\n",
    "    for col in range(colSize):\n",
    "        for row in range(rowSize-3):\n",
    "            line = Board[row:row+4,col]\n",
    "            utility += evalLine(line, Player, Opponent)\n",
    "\n",
    "    for row in range(rowSize-3):\n",
    "        for col in range(colSize-3):\n",
    "            line = [Board[row+i][col+i] for i in range(4)]\n",
    "            \n",
    "            utility += evalLine(line, Player, Opponent)\n",
    "\n",
    "    for row in range(rowSize-3):\n",
    "        for col in range(3, colSize):\n",
    "            line = [Board[row+i][col-i] for i in range(4)]\n",
    "            utility += evalLine(line, Player, Opponent)\n",
    "    center_col = len(Board[0]) // 2  \n",
    "    center_count = sum(Board[row][center_col] == Player for row in range(6))\n",
    "    utility += center_count \n",
    "\n",
    "    return utility\n"
   ]
  },
  {
   "cell_type": "code",
   "execution_count": 24,
   "metadata": {},
   "outputs": [],
   "source": [
    "def MinimaxAlgorithm(Board,depth,Player):\n",
    "\n",
    "    opponent=2\n",
    "    if(Player==1):\n",
    "        opponent=2\n",
    "        \n",
    "    AGentwins=check_goal_test(Board,1)\n",
    "    if(AGentwins==1):\n",
    "        return 10000000,Board\n",
    "    ComputerWins=check_goal_test(Board,2)\n",
    "    if(ComputerWins==2):\n",
    "        return -10000000,Board\n",
    "    if(depth==0):\n",
    "        return UtilityOfBoard(Board,Player,opponent),Board\n",
    "\n",
    "    if(Player==1):\n",
    "        value=float('-inf')\n",
    "        auxiliaryBoard=None\n",
    "        children= getAllValidChildren(Board,Player)\n",
    "        # print (children)\n",
    "        for child in children:\n",
    "            print('child board max',child)\n",
    "            NewVal,_=MinimaxAlgorithm(child, depth-1,2)\n",
    "            if(NewVal>value):\n",
    "                auxiliaryBoard=child\n",
    "                value=NewVal\n",
    "        return value,auxiliaryBoard\n",
    "    else:\n",
    "        value=float('inf')\n",
    "        auxiliaryBoard=None\n",
    "        children= getAllValidChildren(Board,Player)\n",
    "        for child in children:\n",
    "            print('child board min',child)\n",
    "            NewVal,_=MinimaxAlgorithm(child,depth-1,1)\n",
    "            if (NewVal<value):\n",
    "                auxiliaryBoard=child\n",
    "                value=NewVal\n",
    "                print(value)\n",
    "        return value,auxiliaryBoard"
   ]
  },
  {
   "cell_type": "code",
   "execution_count": 46,
   "metadata": {},
   "outputs": [],
   "source": [
    "def alphaBetaPruning(Board, depth,Player, alpha=float('-inf'), beta=float('inf')):\n",
    "    opponent=2\n",
    "    if(Player==1):\n",
    "        opponent=2\n",
    "        \n",
    "    AGentwins=check_goal_test(Board,1)\n",
    "    if(AGentwins==1):\n",
    "        return 10000000+depth,Board\n",
    "    ComputerWins=check_goal_test(Board,2)\n",
    "    if(ComputerWins==2):\n",
    "        return -10000000+depth,Board\n",
    "    if(depth==0):\n",
    "        return UtilityOfBoard(Board,Player,opponent),Board\n",
    "    if(Player==1):\n",
    "        value=float('-inf')\n",
    "        auxiliaryBoard=None\n",
    "        children= getAllValidChildren(Board,Player)\n",
    "        for child in children:\n",
    "            # print('child board max',child)\n",
    "            NewVal,_=alphaBetaPruning(child, depth-1,2,alpha,beta)\n",
    "\n",
    "            if(NewVal>value):\n",
    "                auxiliaryBoard=child\n",
    "                value=NewVal\n",
    "            if(beta<=value):\n",
    "                return NewVal,None\n",
    "            alpha=max(alpha,value)\n",
    "        return value,auxiliaryBoard\n",
    "    else:\n",
    "        value=float('inf')\n",
    "        auxiliaryBoard=None\n",
    "        children= getAllValidChildren(Board,Player)\n",
    "        for child in children:\n",
    "            # print('child board min',child)\n",
    "            NewVal,_=alphaBetaPruning(child,depth-1,1,alpha,beta)\n",
    "            if (NewVal<value):\n",
    "                auxiliaryBoard=child\n",
    "                value=NewVal\n",
    "                # print(value)\n",
    "            if(alpha>=value):\n",
    "                return NewVal,None\n",
    "            beta=min(beta,value)\n",
    "        return value,auxiliaryBoard\n",
    "       \n"
   ]
  },
  {
   "cell_type": "code",
   "execution_count": 47,
   "metadata": {},
   "outputs": [],
   "source": [
    "newBoard = np.array(\n",
    "       [[0, 0, 0, 0, 0, 0, 0],\n",
    "        [0, 0, 0, 0, 0, 0, 0],\n",
    "        [0, 0, 0, 0, 0, 0, 0],\n",
    "        [0, 0, 0, 0, 0, 0, 0],\n",
    "        [0, 0, 0, 0, 0, 0, 0],\n",
    "        [0, 0, 0, 1, 1, 0, 0]]\n",
    "        )"
   ]
  },
  {
   "cell_type": "code",
   "execution_count": 48,
   "metadata": {},
   "outputs": [
    {
     "name": "stdout",
     "output_type": "stream",
     "text": [
      "10000000\n",
      "[[0 0 0 0 0 0 0]\n",
      " [0 0 0 0 0 0 0]\n",
      " [0 0 0 0 0 0 0]\n",
      " [0 0 0 0 0 0 0]\n",
      " [0 0 0 0 0 0 0]\n",
      " [0 0 1 1 1 0 0]]\n"
     ]
    }
   ],
   "source": [
    "Value,nboard=alphaBetaPruning(newBoard,3,1)\n",
    "print(Value)\n",
    "print(nboard)"
   ]
  },
  {
   "cell_type": "code",
   "execution_count": 49,
   "metadata": {},
   "outputs": [
    {
     "name": "stdout",
     "output_type": "stream",
     "text": [
      "10000002\n",
      "[[0 0 0 0 0 0 0]\n",
      " [0 0 0 0 0 0 0]\n",
      " [0 0 0 0 0 0 0]\n",
      " [0 0 0 0 0 0 0]\n",
      " [0 0 0 0 0 0 0]\n",
      " [0 1 1 1 1 0 0]]\n"
     ]
    }
   ],
   "source": [
    "Value,nboard=alphaBetaPruning(nboard,3,1)\n",
    "print(Value)\n",
    "print(nboard)"
   ]
  },
  {
   "cell_type": "code",
   "execution_count": null,
   "metadata": {},
   "outputs": [],
   "source": []
  },
  {
   "cell_type": "code",
   "execution_count": null,
   "metadata": {},
   "outputs": [],
   "source": [
    "# newBoard = np.array(\n",
    "#        [[0, 0, 0, 0, 0, 0, 0],\n",
    "#         [0, 0, 0, 0, 0, 0, 0],\n",
    "#         [0, 0, 0, 0, 0, 0, 0],\n",
    "#         [0, 0, 0, 0, 0, 0, 0],\n",
    "#         [0, 0, 0, 0, 0, 0, 0],\n",
    "#         [0, 0, 0, 0, 0, 0, 0]]\n",
    "#         )\n",
    "\n",
    "       \n",
    "\n",
    "# MinimaxAlgorithm(newBoard, 6, 1)"
   ]
  },
  {
   "cell_type": "code",
   "execution_count": null,
   "metadata": {},
   "outputs": [],
   "source": [
    "# newBoard = np.array(\n",
    "#        [[0, 0, 0, 0, 0, 0, 2],\n",
    "#         [0, 0, 0, 0, 0, 0, 1],\n",
    "#         [0, 0, 0, 0, 0, 0, 2],\n",
    "#         [0, 0, 0, 0, 0, 0, 1],\n",
    "#         [0, 0, 0, 0, 0, 0, 2],\n",
    "#         [0, 0, 0, 0, 0, 0, 1]]\n",
    "#         )\n",
    "\n",
    "# MinimaxAlgorithm(newBoard, 6, 1)"
   ]
  },
  {
   "cell_type": "code",
   "execution_count": null,
   "metadata": {},
   "outputs": [],
   "source": [
    "# newBoard = np.array(\n",
    "#        [[0, 0, 0, 0, 0, 0, 2],\n",
    "#         [0, 0, 0, 0, 0, 0, 1],\n",
    "#         [0, 0, 0, 0, 0, 0, 2],\n",
    "#         [0, 0, 0, 0, 0, 0, 1],\n",
    "#         [2, 0, 0, 0, 0, 0, 2],\n",
    "#         [2, 0, 1, 1, 1, 2, 1]]\n",
    "#         )\n",
    "# MinimaxAlgorithm(newBoard, 6, 1)\n",
    "        "
   ]
  }
 ],
 "metadata": {
  "kernelspec": {
   "display_name": "Python 3",
   "language": "python",
   "name": "python3"
  },
  "language_info": {
   "codemirror_mode": {
    "name": "ipython",
    "version": 3
   },
   "file_extension": ".py",
   "mimetype": "text/x-python",
   "name": "python",
   "nbconvert_exporter": "python",
   "pygments_lexer": "ipython3",
   "version": "3.8.6"
  },
  "orig_nbformat": 4
 },
 "nbformat": 4,
 "nbformat_minor": 2
}

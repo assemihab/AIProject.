{
 "cells": [
  {
   "cell_type": "code",
   "execution_count": 99,
   "metadata": {},
   "outputs": [
    {
     "data": {
      "text/plain": [
       "[[0, 0, 0, 0, 0, 0, 0],\n",
       " [0, 0, 0, 0, 0, 0, 0],\n",
       " [0, 0, 0, 0, 0, 0, 0],\n",
       " [0, 0, 0, 0, 0, 0, 0],\n",
       " [0, 0, 0, 0, 0, 0, 0],\n",
       " [0, 0, 0, 0, 0, 0, 0]]"
      ]
     },
     "execution_count": 99,
     "metadata": {},
     "output_type": "execute_result"
    }
   ],
   "source": [
    "initial = []\n",
    "gameBoard = []\n",
    "for i in range(7):\n",
    "    initial.append(0)\n",
    "for i in range(6):\n",
    "    gameBoard.append(initial)\n",
    "\n",
    "piecesPlayedInColumn = [0,0,0,0,0,0,0] # Track how many pieces in each column\n",
    "gameBoard\n"
   ]
  },
  {
   "cell_type": "code",
   "execution_count": 100,
   "metadata": {},
   "outputs": [
    {
     "data": {
      "text/plain": [
       "{(1, 1): [0],\n",
       " (1, 2): [0],\n",
       " (1, 3): [0],\n",
       " (1, 4): [0],\n",
       " (1, 5): [0],\n",
       " (1, 6): [0],\n",
       " (1, 7): [0],\n",
       " (2, 1): [0],\n",
       " (2, 2): [0],\n",
       " (2, 3): [0],\n",
       " (2, 4): [0],\n",
       " (2, 5): [0],\n",
       " (2, 6): [0],\n",
       " (2, 7): [0],\n",
       " (3, 1): [0],\n",
       " (3, 2): [0],\n",
       " (3, 3): [0],\n",
       " (3, 4): [0],\n",
       " (3, 5): [0],\n",
       " (3, 6): [0],\n",
       " (3, 7): [0],\n",
       " (4, 1): [0],\n",
       " (4, 2): [0],\n",
       " (4, 3): [0],\n",
       " (4, 4): [0],\n",
       " (4, 5): [0],\n",
       " (4, 6): [0],\n",
       " (4, 7): [0],\n",
       " (5, 1): [0],\n",
       " (5, 2): [0],\n",
       " (5, 3): [0],\n",
       " (5, 4): [0],\n",
       " (5, 5): [0],\n",
       " (5, 6): [0],\n",
       " (5, 7): [0],\n",
       " (6, 1): [0],\n",
       " (6, 2): [0],\n",
       " (6, 3): [0],\n",
       " (6, 4): [0],\n",
       " (6, 5): [0],\n",
       " (6, 6): [0],\n",
       " (6, 7): [0]}"
      ]
     },
     "execution_count": 100,
     "metadata": {},
     "output_type": "execute_result"
    }
   ],
   "source": [
    "gameBoard = { (rows,columns):[0] for rows in range(1,7) for columns in range(1,8) }\n",
    "\n",
    "\n",
    "\n",
    "def place(board, player, col):\n",
    "    piecesInCol = piecesPlayedInColumn[col-1]\n",
    "    if (piecesInCol >= 6):\n",
    "        print(\"You can't place here!\")\n",
    "        return\n",
    "    board[6-piecesInCol, col] = player\n",
    "    piecesPlayedInColumn[col-1] += 1\n",
    "    return board\n",
    "\n",
    "\n",
    "gameBoard # First tuple is dict key, (Row, Column), 2nd is list where [0] is empty, done as list as the heuristic values will be appended later\n"
   ]
  },
  {
   "cell_type": "code",
   "execution_count": 101,
   "metadata": {},
   "outputs": [],
   "source": [
    "def printBoard(board):\n",
    "    counter = 0\n",
    "    m = list(board)\n",
    "    br = []\n",
    "    for i in m:\n",
    "        print(board[i[0],i[1]],end=\" \")\n",
    "        counter +=1\n",
    "        if (counter % 7 == 0):\n",
    "            print('\\n')\n",
    "\n",
    "#printBoard(gameBoard)"
   ]
  },
  {
   "cell_type": "code",
   "execution_count": 102,
   "metadata": {},
   "outputs": [],
   "source": [
    "def getNextStates(board, player):\n",
    "    nextStates = []\n",
    "    for i in range(1,8):\n",
    "        newStates = board.copy()\n",
    "        s = place(newStates,player, i)\n",
    "        nextStates.append(s)\n",
    "    return nextStates\n",
    "\n",
    "#getNextStates(gameBoard, 1)"
   ]
  },
  {
   "cell_type": "code",
   "execution_count": null,
   "metadata": {},
   "outputs": [],
   "source": []
  },
  {
   "cell_type": "code",
   "execution_count": null,
   "metadata": {},
   "outputs": [],
   "source": []
  }
 ],
 "metadata": {
  "kernelspec": {
   "display_name": "Python 3",
   "language": "python",
   "name": "python3"
  },
  "language_info": {
   "codemirror_mode": {
    "name": "ipython",
    "version": 3
   },
   "file_extension": ".py",
   "mimetype": "text/x-python",
   "name": "python",
   "nbconvert_exporter": "python",
   "pygments_lexer": "ipython3",
   "version": "3.11.2"
  },
  "orig_nbformat": 4
 },
 "nbformat": 4,
 "nbformat_minor": 2
}
